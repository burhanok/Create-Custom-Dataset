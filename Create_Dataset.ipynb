{
  "nbformat": 4,
  "nbformat_minor": 0,
  "metadata": {
    "colab": {
      "name": "Create_Dataset.ipynb",
      "private_outputs": true,
      "provenance": [],
      "collapsed_sections": [],
      "mount_file_id": "1uOAN-z5XMaKDs4K1XuM16i2-osfhxSXQ",
      "authorship_tag": "ABX9TyMkYMhm8Bq5LfZsRePX7wES",
      "include_colab_link": true
    },
    "kernelspec": {
      "name": "python3",
      "display_name": "Python 3"
    },
    "accelerator": "GPU"
  },
  "cells": [
    {
      "cell_type": "markdown",
      "metadata": {
        "id": "view-in-github",
        "colab_type": "text"
      },
      "source": [
        "<a href=\"https://colab.research.google.com/github/burhanok/Create-Custom-Dataset/blob/main/Create_Dataset.ipynb\" target=\"_parent\"><img src=\"https://colab.research.google.com/assets/colab-badge.svg\" alt=\"Open In Colab\"/></a>"
      ]
    },
    {
      "cell_type": "code",
      "metadata": {
        "id": "EXJNmO4s6xie",
        "cellView": "form"
      },
      "source": [
        "#@title ***Access Your Google Drive***\n",
        "from google.colab import drive\n",
        "drive.mount('/content/drive')"
      ],
      "execution_count": null,
      "outputs": []
    },
    {
      "cell_type": "markdown",
      "metadata": {
        "id": "wO9pEne95k3g"
      },
      "source": [
        "# ---------------------------------------------------------------------------------------"
      ]
    },
    {
      "cell_type": "code",
      "metadata": {
        "id": "UYoKN_KrrGb8",
        "cellView": "form"
      },
      "source": [
        "#@title ***Data Frame Dictionary***\n",
        "data_frame_list = {}"
      ],
      "execution_count": null,
      "outputs": []
    },
    {
      "cell_type": "markdown",
      "metadata": {
        "id": "wIF7UwO80iAJ"
      },
      "source": [
        "# ---------------------------------------------------------------------------------------"
      ]
    },
    {
      "cell_type": "code",
      "metadata": {
        "id": "h4qgScSM7Tlv",
        "cellView": "form"
      },
      "source": [
        "#@title ***Create Dataframe***\n",
        "path = \"/content/drive/MyDrive/Create_Dataset/dog/\" #@param {type:\"string\"}\n",
        "prefix = \"dog\" #@param {type:\"string\"}\n",
        "label =  1#@param {type:\"integer\"}\n",
        "image_width =  64#@param {type:\"integer\"}\n",
        "image_height =  64#@param {type:\"integer\"}\n",
        "dataframe_name = \"dog\" #@param {type:\"string\"}\n",
        "#@markdown ***Note :*** ***label*** should be an integer value.\n",
        "import numpy as np\n",
        "from PIL import Image\n",
        "import pandas as pd\n",
        "import os\n",
        "from sklearn.utils import shuffle\n",
        "from PIL import ImageFile\n",
        "\n",
        "def create(path,prefix,label,image_width,image_height):\n",
        "    df = pd.DataFrame()   \n",
        "    count = 0\n",
        "    for i in os.listdir(path):\n",
        "        if \".jpg\" or \".png\" or \".JPEG\" in i:\n",
        "            \n",
        "            count += 1\n",
        "        \n",
        "            image = Image.open(path + i)\n",
        "\n",
        "            ImageFile.LOAD_TRUNCATED_IMAGES = True\n",
        "\n",
        "            image = image.convert(\"L\")\n",
        "\n",
        "            image = image.resize((image_width,image_height))\n",
        "\n",
        "            array_image = np.array(image)\n",
        "\n",
        "            array_image = array_image.flatten()\n",
        "\n",
        "            dict_image = {prefix + \"_\" + str(count):array_image}\n",
        "\n",
        "            df = pd.concat([df, pd.DataFrame(dict_image)], axis=1)\n",
        "        else:\n",
        "            pass\n",
        "    \n",
        "    df = df.T\n",
        "    label = np.full(count, label)\n",
        "    df[\"label\"] = label\n",
        "    return df\n",
        "globals()[dataframe_name] = create(path,prefix,label,image_width,image_height)\n",
        "if dataframe_name in data_frame_list.keys():\n",
        "    print(\"This dataframe name already exist.\")\n",
        "else:\n",
        "    data_frame_list[dataframe_name] = (create(path,prefix,label,image_width,image_height))\n",
        "    print(f\"Created a dataframe called {dataframe_name}\")"
      ],
      "execution_count": null,
      "outputs": []
    },
    {
      "cell_type": "markdown",
      "metadata": {
        "id": "D8v1iLJJ0sOd"
      },
      "source": [
        "# ---------------------------------------------------------------------------------------"
      ]
    },
    {
      "cell_type": "code",
      "metadata": {
        "id": "m4ONhzJ0aHbC",
        "cellView": "form"
      },
      "source": [
        "#@title ***Concatenate Created Data Frames***\n",
        "concat_name = \"concat_images\" #@param {type:\"string\"}\n",
        "\n",
        "def concat(data_frame_list):\n",
        "    df = pd.DataFrame()\n",
        "    for i in data_frame_list.values():\n",
        "        df = pd.concat([df, i], axis=0)\n",
        "    return df\n",
        "    \n",
        "globals()[concat_name] = concat(data_frame_list)\n",
        "print(f\"Concatenated a dataframe called {concat_name}\")"
      ],
      "execution_count": null,
      "outputs": []
    },
    {
      "cell_type": "markdown",
      "metadata": {
        "id": "w08Qtxgb0ttM"
      },
      "source": [
        "# ---------------------------------------------------------------------------------------"
      ]
    },
    {
      "cell_type": "code",
      "metadata": {
        "id": "JiBXp1YhxxLz",
        "cellView": "form"
      },
      "source": [
        "#@title ***Shuffle Dataset***\n",
        "shuffle_dataset_name = \"Dataset_Shuffle\" #@param {type:\"string\"}\n",
        "from sklearn.utils import shuffle\n",
        "def shuffle_data(dataframe):    \n",
        "    df_shuffle = shuffle(dataframe)\n",
        "    return df_shuffle\n",
        "\n",
        "globals()[shuffle_dataset_name] = shuffle_data(concat(data_frame_list))\n",
        "print(f\"Concatenated a dataframe called {shuffle_dataset_name}\")"
      ],
      "execution_count": null,
      "outputs": []
    },
    {
      "cell_type": "markdown",
      "metadata": {
        "id": "pOKc_CIo0uxh"
      },
      "source": [
        "# ---------------------------------------------------------------------------------------"
      ]
    },
    {
      "cell_type": "code",
      "metadata": {
        "id": "XAa1ZiQn02u6",
        "cellView": "form"
      },
      "source": [
        "#@title Save Dataset As ***CSV*** File Format\n",
        "dataset_name = \"cat_dog\" #@param {type:\"string\"}\n",
        "select_dataset_to_save = \"Shuffle Dataset\" #@param [\"Concatenate Dataset\", \"Shuffle Dataset\"] {allow-input: true}\n",
        "from google.colab import files\n",
        "def convert(dataset):\n",
        "    shuffle_data(concat(data_frame_list)).to_csv(f\"{dataset_name}.csv\", index=False)\n",
        "    shuffle_data(concat(data_frame_list)).to_excel(f\"{dataset_name}.xlsx\", index=False)\n",
        "    files.download(f\"{dataset_name}.csv\")\n",
        "    files.download(f\"{dataset_name}.xlsx\")\n",
        "if select_dataset_to_save == \"Shuffle Dataset\":\n",
        "    convert(shuffle_dataset_name)\n",
        "else:\n",
        "    convert(concat_name)"
      ],
      "execution_count": null,
      "outputs": []
    }
  ]
}